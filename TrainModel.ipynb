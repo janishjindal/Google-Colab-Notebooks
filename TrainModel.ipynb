{
  "nbformat": 4,
  "nbformat_minor": 0,
  "metadata": {
    "colab": {
      "name": "TrainModel.ipynb",
      "provenance": [],
      "collapsed_sections": [],
      "authorship_tag": "ABX9TyOD1cxZPiFaSzOkVqnfLUwI",
      "include_colab_link": true
    },
    "kernelspec": {
      "name": "python3",
      "display_name": "Python 3"
    },
    "language_info": {
      "name": "python"
    }
  },
  "cells": [
    {
      "cell_type": "markdown",
      "metadata": {
        "id": "view-in-github",
        "colab_type": "text"
      },
      "source": [
        "<a href=\"https://colab.research.google.com/github/janishjindal/Google-Colab-Notebooks/blob/main/TrainModel.ipynb\" target=\"_parent\"><img src=\"https://colab.research.google.com/assets/colab-badge.svg\" alt=\"Open In Colab\"/></a>"
      ]
    },
    {
      "cell_type": "code",
      "source": [
        "from google.colab import files\n",
        "from google.colab import drive\n",
        "import pandas as pd\n",
        "import pickle\n",
        "drive.mount('/content/drive')\n",
        "df = pd.read_csv('/content/drive/My Drive/AffableTrainData/Train.csv')"
      ],
      "metadata": {
        "id": "7QfvAG2TuM58",
        "colab": {
          "base_uri": "https://localhost:8080/"
        },
        "outputId": "4a078215-b38f-4705-e574-2b97369d1edf"
      },
      "execution_count": null,
      "outputs": [
        {
          "output_type": "stream",
          "name": "stdout",
          "text": [
            "Mounted at /content/drive\n"
          ]
        }
      ]
    },
    {
      "cell_type": "markdown",
      "source": [
        "Feature expansion from Col ImageLabels (isPerson)"
      ],
      "metadata": {
        "id": "h6Ru0AT-wZCs"
      }
    },
    {
      "cell_type": "code",
      "source": [
        "personFeatures = {'neck', 'hair', 'eyelash', 'beard', 'human leg', 'face', 'facial expression', 'lip', 'chin', 'moustache', 'blond', 'human body', 'arm', 'human', 'waist', 'man', 'woman', 'wrist', 'finger', 'nose', 'person', 'leg', 'cheek', 'tongue', 'lady', 'muscle', 'forehead', 'shoulder', 'eye', 'boy', 'mouth', 'male', 'girl', 'skin', 'thigh', 'smile', 'chest', 'nail','head', 'hand', 'people', 'eyebrow', 'layered hair', 'hair coloring', 'brown hair', 'facial hair', 'hair accessory', 'thumb', 'jaw', 'hip'}"
      ],
      "metadata": {
        "id": "kThemFtMsMTr"
      },
      "execution_count": null,
      "outputs": []
    },
    {
      "cell_type": "code",
      "source": [
        "import ast\n",
        "total_rows = len(df)\n",
        "isPerson = []\n",
        "confidence_threshold = 0.65\n",
        "facialFeature_condifence = 0.0\n",
        "newDfColumn = []\n",
        "for row in range(total_rows):\n",
        "  try:\n",
        "    imageLabelList = ast.literal_eval(df.imageLabels[row])\n",
        "    newImageLabelList = []\n",
        "    for tup in imageLabelList :\n",
        "      if(tup[1] >= confidence_threshold):\n",
        "        newImageLabelList.append(tup)\n",
        "    pf_count = 0\n",
        "    for tup in newImageLabelList:\n",
        "      if(tup[0] in personFeatures):\n",
        "        pf_count+=1\n",
        "    pf_percent = pf_count/len(newImageLabelList)\n",
        "    newDfColumn.append(newImageLabelList)\n",
        "    if(pf_percent > facialFeature_condifence):\n",
        "      isPerson.append(1)\n",
        "    else:\n",
        "      isPerson.append(0)\n",
        "  except ValueError:\n",
        "    #print(\"Encountered null\")\n",
        "    newDfColumn.append([])\n",
        "    isPerson.append(0)\n",
        "    continue\n",
        "  except ZeroDivisionError:\n",
        "    # newImageList is empty => no image label with high confidence tag\n",
        "    newDfColumn.append([])\n",
        "    isPerson.append(0)\n",
        "    continue\n",
        "df[\"newImageLabels\"] = newDfColumn\n",
        "df[\"isPerson\"] = isPerson"
      ],
      "metadata": {
        "id": "uC72HIz_gs6U"
      },
      "execution_count": null,
      "outputs": []
    },
    {
      "cell_type": "markdown",
      "source": [
        "Bag of Word (BoW) on ImageLabel tags"
      ],
      "metadata": {
        "id": "hJatDuzryMbs"
      }
    },
    {
      "cell_type": "code",
      "source": [
        "imageLabelBoWCol = []\n",
        "for row in range(total_rows):\n",
        "  try:\n",
        "    imageLabelList = ast.literal_eval(df.imageLabels[row])\n",
        "    bow = \"\"\n",
        "    for tup in imageLabelList :\n",
        "      if(tup[1] > confidence_threshold):\n",
        "        bow += tup[0] + \" \" \n",
        "    imageLabelBoWCol.append(bow)    \n",
        "  except ValueError:\n",
        "    #print(\"Encountered null\")\n",
        "    imageLabelBoWCol.append(\"\")\n",
        "    continue\n",
        "df[\"imageLabelBoW\"] = imageLabelBoWCol"
      ],
      "metadata": {
        "id": "qn2zp7IgtYuX"
      },
      "execution_count": null,
      "outputs": []
    },
    {
      "cell_type": "code",
      "source": [
        "df_orig=df.copy()"
      ],
      "metadata": {
        "id": "uyA2EEr_z9ng"
      },
      "execution_count": null,
      "outputs": []
    },
    {
      "cell_type": "markdown",
      "source": [
        "Feature Selection : Removing unwanted cols based on domain knowledge"
      ],
      "metadata": {
        "id": "Uyf0pi0Ozq48"
      }
    },
    {
      "cell_type": "code",
      "source": [
        "df.drop(['biography', 'username','externalUrl', 'picture', 'cityId', 'latitude', 'longitude', 'zip', 'contactPhoneNumber', 'imageLabels', 'newImageLabels'], axis = 1, inplace=True)"
      ],
      "metadata": {
        "id": "sZYi5qWUHRYn"
      },
      "execution_count": null,
      "outputs": []
    },
    {
      "cell_type": "markdown",
      "source": [
        "Applying CountVectorizer on ImageLabelBoW"
      ],
      "metadata": {
        "id": "GboMNh480Q2R"
      }
    },
    {
      "cell_type": "code",
      "source": [
        "from sklearn.feature_extraction.text import CountVectorizer\n",
        "cv=CountVectorizer()\n",
        "cv.fit(df['imageLabelBoW'])\n",
        "cv_fit = cv.transform(df['imageLabelBoW'])\n",
        "bow_df = pd.DataFrame(cv_fit.toarray(),columns=cv.get_feature_names_out())\n",
        "bow_df.rename(columns = {'brand':'brand_bow'}, inplace = True)\n",
        "#bow_df.info()\n",
        "\n",
        "with open('/content/drive/My Drive/AffableModels/cv_pkl.pickle', 'wb') as f:\n",
        "    pickle.dump(cv, f)"
      ],
      "metadata": {
        "id": "FZ7XPqTzw5Ay"
      },
      "execution_count": null,
      "outputs": []
    },
    {
      "cell_type": "markdown",
      "source": [
        "Handling Missing Values"
      ],
      "metadata": {
        "id": "fEIraCH-0plb"
      }
    },
    {
      "cell_type": "code",
      "source": [
        "numerical_vars = ['mediaCount', 'followingCount', 'followerCount', 'usertagsCount', 'geoMediaCount', 'shoppablePostsCount', 'followingTagCount']\n",
        "with open('/content/drive/My Drive/AffableModels/df_train_pkl.pickle', 'wb') as f:\n",
        "    pickle.dump(df, f)\n",
        "    \n",
        "for i in numerical_vars:\n",
        "  df[i].fillna(df[i].mean(), inplace=True)\n",
        "\n",
        "categorical_vars = ['isBusiness', 'category', 'hasEmail', 'isPerson']\n",
        "for i in categorical_vars:\n",
        "  df[i].fillna(df[i].mode()[0], inplace=True)"
      ],
      "metadata": {
        "id": "RMgfbOMsug6U"
      },
      "execution_count": null,
      "outputs": []
    },
    {
      "cell_type": "markdown",
      "source": [
        "Concatenating CountVectorizer of ImageLabels with Original df "
      ],
      "metadata": {
        "id": "Ihkk4B__1NoR"
      }
    },
    {
      "cell_type": "code",
      "source": [
        "df = pd.concat([df,bow_df], axis=1)\n",
        "df.drop('imageLabelBoW', axis=1, inplace=True)"
      ],
      "metadata": {
        "id": "G_SODzU_S2Eq"
      },
      "execution_count": null,
      "outputs": []
    },
    {
      "cell_type": "markdown",
      "source": [
        "One-hot encoding for categical vars"
      ],
      "metadata": {
        "id": "YYeGH0mt1i0H"
      }
    },
    {
      "cell_type": "code",
      "source": [
        "from sklearn.preprocessing import OneHotEncoder\n",
        "categorical_vars = ['isBusiness', 'category', 'hasEmail', 'isPerson']\n",
        "\n",
        "category_encoder = OneHotEncoder(handle_unknown=\"ignore\")\n",
        "category_encoder.fit(df[['category']])\n",
        "category_array = category_encoder.transform(df[['category']]).toarray()\n",
        "category_ohe_df = pd.DataFrame(category_array, columns=category_encoder.get_feature_names_out(['category']))\n",
        "\n",
        "isBusiness_encoder = OneHotEncoder(handle_unknown=\"ignore\")\n",
        "isBusiness_encoder.fit(df[['isBusiness']])\n",
        "isBusiness_array = isBusiness_encoder.transform(df[['isBusiness']]).toarray()\n",
        "isBusiness_ohe_df = pd.DataFrame(isBusiness_array, columns=isBusiness_encoder.get_feature_names_out(['isBusiness']))\n",
        "\n",
        "\n",
        "hasEmail_encoder = OneHotEncoder(handle_unknown=\"ignore\")\n",
        "hasEmail_encoder.fit(df[['hasEmail']])\n",
        "hasEmail_array = hasEmail_encoder.transform(df[['hasEmail']]).toarray()\n",
        "hasEmail_ohe_df = pd.DataFrame(hasEmail_array, columns=hasEmail_encoder.get_feature_names_out(['hasEmail']))\n",
        "\n",
        "isPerson_encoder = OneHotEncoder(handle_unknown=\"ignore\")\n",
        "isPerson_encoder.fit(df[['isPerson']])\n",
        "isPerson_array = isPerson_encoder.transform(df[['isPerson']]).toarray()\n",
        "isPerson_ohe_df = pd.DataFrame(isPerson_array, columns=isPerson_encoder.get_feature_names_out(['isPerson']))\n",
        "\n",
        "ohe_df = pd.concat([category_ohe_df, isBusiness_ohe_df, hasEmail_ohe_df, isPerson_ohe_df], axis=1)\n",
        "df = pd.concat([df, ohe_df], axis=1)\n",
        "df.drop(categorical_vars, axis=1, inplace=True)\n",
        "\n",
        "with open('/content/drive/My Drive/AffableModels/category_ohe_pkl.pickle', 'wb') as f:\n",
        "    pickle.dump(category_encoder, f)\n",
        "with open('/content/drive/My Drive/AffableModels/isBusiness_ohe_pkl.pickle', 'wb') as f:\n",
        "    pickle.dump(isBusiness_encoder, f)\n",
        "with open('/content/drive/My Drive/AffableModels/hasEmail_ohe_pkl.pickle', 'wb') as f:\n",
        "    pickle.dump(hasEmail_encoder, f)\n",
        "with open('/content/drive/My Drive/AffableModels/isPerson_ohe_pkl.pickle', 'wb') as f:\n",
        "    pickle.dump(isPerson_encoder, f)\n"
      ],
      "metadata": {
        "id": "4K7-MmPUWsCi"
      },
      "execution_count": null,
      "outputs": []
    },
    {
      "cell_type": "markdown",
      "source": [
        "Training ML Models (Original + No Scaling + No SVD) -> Best"
      ],
      "metadata": {
        "id": "eAYn1-RC4qi6"
      }
    },
    {
      "cell_type": "code",
      "source": [
        "from sklearn.model_selection import train_test_split\n",
        "from sklearn.metrics import confusion_matrix, classification_report, roc_auc_score, accuracy_score\n",
        "from xgboost import XGBClassifier\n",
        "\n",
        "x_train = df[df.columns.drop(['brand'])]\n",
        "y_train = df['brand']\n",
        "\n",
        "model=XGBClassifier(n_estimators=200,learning_rate=.2,random_state=201)\n",
        "\n",
        "model.fit(x_train, y_train)\n",
        "\n",
        "with open('/content/drive/My Drive/AffableModels/trainXGB_pkl.pickle', 'wb') as f:\n",
        "    pickle.dump(model, f)\n",
        "    \n",
        "drive.flush_and_unmount()"
      ],
      "metadata": {
        "id": "K4esEnnZzOCv"
      },
      "execution_count": null,
      "outputs": []
    },
    {
      "cell_type": "code",
      "source": [
        "#drive.mount('/content/drive')\n",
        "model.save_model(\"/content/drive/My Drive/AffableModels/XGBoost.bin\")"
      ],
      "metadata": {
        "id": "_KveVbhtS0n_"
      },
      "execution_count": null,
      "outputs": []
    },
    {
      "cell_type": "code",
      "source": [
        ""
      ],
      "metadata": {
        "colab": {
          "base_uri": "https://localhost:8080/"
        },
        "id": "DXAsp6HhTg5z",
        "outputId": "1675a963-d199-4f35-f85c-bc9c55a08730"
      },
      "execution_count": null,
      "outputs": [
        {
          "output_type": "execute_result",
          "data": {
            "text/plain": [
              "xgboost.sklearn.XGBClassifier"
            ]
          },
          "metadata": {},
          "execution_count": 13
        }
      ]
    }
  ]
}